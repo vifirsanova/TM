{
  "nbformat": 4,
  "nbformat_minor": 0,
  "metadata": {
    "colab": {
      "name": "Firsanova_Topic_Modeling_zachet.ipynb",
      "provenance": [],
      "collapsed_sections": []
    },
    "kernelspec": {
      "display_name": "Python 3",
      "language": "python",
      "name": "python3"
    },
    "language_info": {
      "codemirror_mode": {
        "name": "ipython",
        "version": 3
      },
      "file_extension": ".py",
      "mimetype": "text/x-python",
      "name": "python",
      "nbconvert_exporter": "python",
      "pygments_lexer": "ipython3",
      "version": "3.7.3"
    }
  },
  "cells": [
    {
      "cell_type": "markdown",
      "metadata": {
        "id": "5obadYKEDhrO"
      },
      "source": [
        "Автор: [Виктория Фирсанова](https://github.com/vifirsanova)\n",
        "\n",
        "[Репозиторий](https://github.com/vifirsanova/TM)"
      ]
    },
    {
      "cell_type": "markdown",
      "metadata": {
        "id": "g0uCG78TJMEv"
      },
      "source": [
        "# Импорт библиотек"
      ]
    },
    {
      "cell_type": "code",
      "metadata": {
        "id": "Y06x9xEkTzha"
      },
      "source": [
        "# цветной вывод\n",
        "!pip install colorama"
      ],
      "execution_count": null,
      "outputs": []
    },
    {
      "cell_type": "code",
      "metadata": {
        "id": "P1IWSZOmhiva"
      },
      "source": [
        "# последняя версия spacy\n",
        "!pip install -U spacy"
      ],
      "execution_count": null,
      "outputs": []
    },
    {
      "cell_type": "code",
      "metadata": {
        "id": "zPp6NiwuggsE"
      },
      "source": [
        "# spacy для русского языка\n",
        "!spacy download ru_core_news_sm"
      ],
      "execution_count": null,
      "outputs": []
    },
    {
      "cell_type": "code",
      "metadata": {
        "id": "z8mXYCFFQ7qI",
        "colab": {
          "base_uri": "https://localhost:8080/"
        },
        "outputId": "479e15e7-4b94-4fa8-9fbc-586949fa137d"
      },
      "source": [
        "import pandas as pd\n",
        "import json\n",
        "from colorama import Fore, Style\n",
        "\n",
        "import random\n",
        "\n",
        "import re\n",
        "\n",
        "from collections import defaultdict\n",
        "\n",
        "import numpy as np\n",
        "\n",
        "import nltk\n",
        "from nltk.corpus import stopwords\n",
        "\n",
        "import gensim\n",
        "import gensim.corpora as corpora\n",
        "from gensim.models import CoherenceModel\n",
        "\n",
        "from sklearn.decomposition import NMF\n",
        "from sklearn.feature_extraction.text import TfidfVectorizer\n",
        "\n",
        "#import spacy\n",
        "#import ru_core_news_sm\n",
        "\n",
        "from pprint import pprint\n",
        "\n",
        "import pyLDAvis\n",
        "import pyLDAvis.gensim_models as gensimvis\n",
        "pyLDAvis.enable_notebook()"
      ],
      "execution_count": null,
      "outputs": [
        {
          "output_type": "stream",
          "name": "stderr",
          "text": [
            "/usr/local/lib/python3.7/dist-packages/past/types/oldstr.py:5: DeprecationWarning: Using or importing the ABCs from 'collections' instead of from 'collections.abc' is deprecated since Python 3.3,and in 3.9 it will stop working\n",
            "  from collections import Iterable\n"
          ]
        }
      ]
    },
    {
      "cell_type": "markdown",
      "metadata": {
        "id": "3gjPwI-UJME0"
      },
      "source": [
        "# Загрузка данных\n",
        "\n",
        "Для обучения используем собственный [корпус новостей газеты Московский комсомолец за 2020-2021 года.](https://drive.google.com/file/d/1ebxe77hTEWvmUggCMnRGdrVDwhuxC9Mr/view)"
      ]
    },
    {
      "cell_type": "code",
      "source": [
        "# подгружаем корпус из GitHub\n",
        "!wget https://raw.githubusercontent.com/vifirsanova/W2V/main/corpus.json"
      ],
      "metadata": {
        "colab": {
          "base_uri": "https://localhost:8080/"
        },
        "id": "wADKkmQiBHbf",
        "outputId": "d2e13ac3-49bc-464c-a396-b896a9c82241"
      },
      "execution_count": null,
      "outputs": [
        {
          "output_type": "stream",
          "name": "stdout",
          "text": [
            "--2021-12-19 16:49:02--  https://raw.githubusercontent.com/vifirsanova/W2V/main/corpus.json\n",
            "Resolving raw.githubusercontent.com (raw.githubusercontent.com)... 185.199.108.133, 185.199.109.133, 185.199.110.133, ...\n",
            "Connecting to raw.githubusercontent.com (raw.githubusercontent.com)|185.199.108.133|:443... connected.\n",
            "HTTP request sent, awaiting response... 200 OK\n",
            "Length: 92111843 (88M) [text/plain]\n",
            "Saving to: ‘corpus.json.1’\n",
            "\n",
            "corpus.json.1       100%[===================>]  87.84M   149MB/s    in 0.6s    \n",
            "\n",
            "2021-12-19 16:49:10 (149 MB/s) - ‘corpus.json.1’ saved [92111843/92111843]\n",
            "\n"
          ]
        }
      ]
    },
    {
      "cell_type": "code",
      "metadata": {
        "colab": {
          "base_uri": "https://localhost:8080/",
          "height": 289
        },
        "id": "5LK_zPh8ZzXn",
        "outputId": "ed3213cc-9f29-450d-87a7-d1368aca14f0"
      },
      "source": [
        "# преобразование данных корпуса в таблицу csv\n",
        "with open('corpus.json') as json_file:\n",
        "    data = json.load(json_file)\n",
        "df = pd.read_json('corpus.json')\n",
        "print(f\"{Fore.RED}Список тем в корпусе:{Style.RESET_ALL} {df.rubric.unique()}\")\n",
        "df.head()"
      ],
      "execution_count": null,
      "outputs": [
        {
          "output_type": "stream",
          "text": [
            "\u001b[31mСписок тем в корпусе:\u001b[0m ['Общество' 'Происшествия' 'Политика' 'Москва' 'Экономика' 'Наука'\n",
            " 'В мире' 'Спорт' 'Московская область' 'Культура' 'Армия' 'Авто' 'Космос'\n",
            " 'Светская жизнь' 'Технологии' 'Рунет' 'Кошелек' 'Футбол' 'Катастрофы'\n",
            " 'Образование' 'Письма президенту' 'Здоровье' 'Московская премьера'\n",
            " 'Свежий МК' 'Турклуб' 'Криминал']\n"
          ],
          "name": "stdout"
        },
        {
          "output_type": "execute_result",
          "data": {
            "text/html": [
              "<div>\n",
              "<style scoped>\n",
              "    .dataframe tbody tr th:only-of-type {\n",
              "        vertical-align: middle;\n",
              "    }\n",
              "\n",
              "    .dataframe tbody tr th {\n",
              "        vertical-align: top;\n",
              "    }\n",
              "\n",
              "    .dataframe thead th {\n",
              "        text-align: right;\n",
              "    }\n",
              "</style>\n",
              "<table border=\"1\" class=\"dataframe\">\n",
              "  <thead>\n",
              "    <tr style=\"text-align: right;\">\n",
              "      <th></th>\n",
              "      <th>link</th>\n",
              "      <th>title</th>\n",
              "      <th>date</th>\n",
              "      <th>time</th>\n",
              "      <th>rubric</th>\n",
              "      <th>text</th>\n",
              "    </tr>\n",
              "  </thead>\n",
              "  <tbody>\n",
              "    <tr>\n",
              "      <th>0</th>\n",
              "      <td>https://www.mk.ru/social/2020/03/31/minobrnauk...</td>\n",
              "      <td>Минобрнауки решило перенести вступительные экз...</td>\n",
              "      <td>31.03.2020</td>\n",
              "      <td>09:11</td>\n",
              "      <td>Общество</td>\n",
              "      <td>\\nВ Минобрнауки РФ приняли решение перенести д...</td>\n",
              "    </tr>\n",
              "    <tr>\n",
              "      <th>1</th>\n",
              "      <td>https://www.mk.ru/social/2020/08/17/razveyan-m...</td>\n",
              "      <td>Развеян миф о риске заразиться COVID-19 через ...</td>\n",
              "      <td>17.08.2020</td>\n",
              "      <td>09:33</td>\n",
              "      <td>Общество</td>\n",
              "      <td>\\nВсемирная организация здравоохранения (ВОЗ) ...</td>\n",
              "    </tr>\n",
              "    <tr>\n",
              "      <th>2</th>\n",
              "      <td>https://www.mk.ru/incident/2020/05/05/v-gaage-...</td>\n",
              "      <td>В Гааге задержали десятки протестующих против ...</td>\n",
              "      <td>05.05.2020</td>\n",
              "      <td>17:12</td>\n",
              "      <td>Происшествия</td>\n",
              "      <td>\\nПолиция Нидерландов пресекла акцию протеста ...</td>\n",
              "    </tr>\n",
              "    <tr>\n",
              "      <th>3</th>\n",
              "      <td>https://www.mk.ru/social/2021/03/23/v-kremle-p...</td>\n",
              "      <td>В Кремле прокомментировали возможную отставку ...</td>\n",
              "      <td>23.03.2021</td>\n",
              "      <td>13:05</td>\n",
              "      <td>Общество</td>\n",
              "      <td>\\nПресс-секретарь российского президента Дмитр...</td>\n",
              "    </tr>\n",
              "    <tr>\n",
              "      <th>4</th>\n",
              "      <td>https://www.mk.ru/social/2021/03/01/moskva-i-p...</td>\n",
              "      <td>Москва и Петербург не попали в топ-50 городов ...</td>\n",
              "      <td>01.03.2021</td>\n",
              "      <td>12:17</td>\n",
              "      <td>Общество</td>\n",
              "      <td>\\nСоставлен рейтинг 100 лучших городов мира по...</td>\n",
              "    </tr>\n",
              "  </tbody>\n",
              "</table>\n",
              "</div>"
            ],
            "text/plain": [
              "                                                link  ...                                               text\n",
              "0  https://www.mk.ru/social/2020/03/31/minobrnauk...  ...  \\nВ Минобрнауки РФ приняли решение перенести д...\n",
              "1  https://www.mk.ru/social/2020/08/17/razveyan-m...  ...  \\nВсемирная организация здравоохранения (ВОЗ) ...\n",
              "2  https://www.mk.ru/incident/2020/05/05/v-gaage-...  ...  \\nПолиция Нидерландов пресекла акцию протеста ...\n",
              "3  https://www.mk.ru/social/2021/03/23/v-kremle-p...  ...  \\nПресс-секретарь российского президента Дмитр...\n",
              "4  https://www.mk.ru/social/2021/03/01/moskva-i-p...  ...  \\nСоставлен рейтинг 100 лучших городов мира по...\n",
              "\n",
              "[5 rows x 6 columns]"
            ]
          },
          "metadata": {
            "tags": []
          },
          "execution_count": 6
        }
      ]
    },
    {
      "cell_type": "code",
      "source": [
        "# сохраняем корпус в переменную\n",
        "with open('corpus.json', encoding='utf-8', newline='') as json_file:\n",
        "    data = json.load(json_file)"
      ],
      "metadata": {
        "id": "Noi2XUn_CLMq"
      },
      "execution_count": null,
      "outputs": []
    },
    {
      "cell_type": "code",
      "source": [
        "# собираем тексты из корпуса\n",
        "full_dataset = []\n",
        "\n",
        "for elem in data['data']:\n",
        "    full_dataset.append(elem['text'])\n",
        "\n",
        "# случайное перемешивание данных\n",
        "random.shuffle(full_dataset)\n",
        "\n",
        "# деление на обучающую (80% данных) и проверочную (20% данных) выборку\n",
        "TRAIN_VAL_SPLIT = int(len(full_dataset) * 0.8)\n",
        "train = full_dataset[:TRAIN_VAL_SPLIT]\n",
        "val = full_dataset[TRAIN_VAL_SPLIT:]"
      ],
      "metadata": {
        "id": "36_pHK0ACXDy"
      },
      "execution_count": null,
      "outputs": []
    },
    {
      "cell_type": "markdown",
      "metadata": {
        "id": "GMWsrdMYJME6"
      },
      "source": [
        "# Токенизация"
      ]
    },
    {
      "cell_type": "code",
      "source": [
        "# удаляем латинские буквы, т.к. корпус содержит русскоязычные новости, а вставки на латинице могут содержать ссылки, элементы сайта (например, рекламные вставки) и другие побочные элементы\n",
        "val_text = [re.sub('[a-zA-Z]', '', sent) for sent in val]\n",
        "train_text = [re.sub('[a-zA-Z]', '', sent) for sent in train]\n",
        "# создаем функцию для токенизации\n",
        "def tokenize(data):\n",
        "    for text in data:\n",
        "        # для токенизации используем simple_preprocess из gensim\n",
        "        yield(gensim.utils.simple_preprocess(str(text).encode('utf-8'), deacc=True))  # deacc удаляет знаки препинания\n",
        "\n",
        "val_tokenized = list(tokenize(val_text))\n",
        "train_tokenized = list(tokenize(train))\n",
        "print(f\"{Fore.RED}Образец токенизированного текста{Style.RESET_ALL}\\n\", val_tokenized[0])"
      ],
      "metadata": {
        "colab": {
          "base_uri": "https://localhost:8080/"
        },
        "id": "_0qo9Nj5CtbG",
        "outputId": "07202157-b17c-49dd-9ea0-102e20916f14"
      },
      "execution_count": 18,
      "outputs": [
        {
          "output_type": "stream",
          "name": "stdout",
          "text": [
            "\u001b[31mОбразец токенизированного текста\u001b[0m\n",
            " ['количество', 'зараженных', 'коронавирусом', 'нового', 'типа', 'на', 'борту', 'карантинного', 'судна', 'побережья', 'японии', 'увеличилось', 'на', 'человек', 'составив', 'сообщает', 'телеканал', 'ранее', 'сообщалось', 'что', 'общеи', 'сложности', 'заболели', 'пассажиров', 'членов', 'экипажа', 'из', 'около', 'человек', 'на', 'борту', 'круизного', 'судна', 'первоначально', 'карантин', 'планировался', 'до', 'февраля', 'однако', 'может', 'быть', 'продлен', 'стало', 'известно', 'что', 'на', 'борту', 'лаинер', 'находятся', 'гражданина', 'россии', 'заражении', 'их', 'вирусом', 'информации', 'не', 'поступало', 'читаите', 'также', 'запертыи', 'на', 'лаинере', 'коронавирусом', 'россиянин', 'описал', 'обстановку']\n"
          ]
        }
      ]
    },
    {
      "cell_type": "markdown",
      "metadata": {
        "id": "HRQhP8lHWygv"
      },
      "source": [
        "# Стоп-слова"
      ]
    },
    {
      "cell_type": "code",
      "metadata": {
        "id": "kxK_dgu1JMEz",
        "colab": {
          "base_uri": "https://localhost:8080/"
        },
        "outputId": "9258b23a-9e23-48e1-8a76-dcefa8fb57c0"
      },
      "source": [
        "# загрузка стоп-слов из репозитория\n",
        "!wget https://raw.githubusercontent.com/vifirsanova/W2V/main/swl.txt\n",
        "\n",
        "# стоп-слова \n",
        "stop_words = []\n",
        "\n",
        "with open('swl.txt', encoding='utf-8') as f:\n",
        "    for word in f:\n",
        "      stop_words.append(word[:-1])\n",
        "\n",
        "print(f\"{Fore.RED}Образец стоп-слов:{Style.RESET_ALL}\", stop_words[6:13])\n",
        "\n",
        "def build_vocab(data_tokenized, pad_word=None, stop_words=stop_words):\n",
        "    freq_dict = defaultdict(int) # количество словоупотреблений в документах \n",
        "    doc_n = len(data_tokenized) # общее количество документов\n",
        "\n",
        "    # посчитать количество словоупотреблений в документах \n",
        "    for text in data_tokenized:\n",
        "        unique_text_tokens = set(text)\n",
        "        for token in unique_text_tokens:\n",
        "            freq_dict[token] += 1\n",
        "\n",
        "\n",
        "    # удалить стоп-слова\n",
        "    for word in list(freq_dict.keys()):\n",
        "        if word in stop_words:\n",
        "            freq_dict.pop(word)\n",
        "\n",
        "\n",
        "    # удалить уникальные слова\n",
        "    freq_dict = {word: count for word, count in freq_dict.items() if count > 1}\n",
        "\n",
        "    # отсортировать слова по убыванию частоты\n",
        "    sorted_freq_dict = sorted(freq_dict.items(),\n",
        "                                reverse=True,\n",
        "                                key=lambda x: x[1])\n",
        "\n",
        "    # паддинг\n",
        "    padded_freq_dict = [(pad_word, 0)] + sorted_freq_dict\n",
        "    \n",
        "    # обновить нумерацию слов\n",
        "    word2id = {word: i for i, (word, _) in enumerate(padded_freq_dict)}\n",
        "\n",
        "    # преобразуем частотный словарь к виду матриц чисел\n",
        "    word2freq = np.array([count / doc_n for _, count in padded_freq_dict], dtype='float32')\n",
        "\n",
        "    return word2id, word2freq\n",
        "\n",
        "\n",
        "# строим словарь для обучающей выборки\n",
        "vocabulary, word_doc_freq = build_vocab(train_tokenized, pad_word='<PAD>', stop_words=stop_words)\n",
        "\n",
        "print(f\"{Fore.RED}Размер словаря:{Style.RESET_ALL} {len(vocabulary)}\")\n",
        "print(f\"{Fore.RED}Образец словаря{Style.RESET_ALL}\\n\", list(vocabulary.items())[:10])"
      ],
      "execution_count": 19,
      "outputs": [
        {
          "output_type": "stream",
          "name": "stdout",
          "text": [
            "--2021-12-19 16:56:57--  https://raw.githubusercontent.com/vifirsanova/W2V/main/swl.txt\n",
            "Resolving raw.githubusercontent.com (raw.githubusercontent.com)... 185.199.108.133, 185.199.109.133, 185.199.110.133, ...\n",
            "Connecting to raw.githubusercontent.com (raw.githubusercontent.com)|185.199.108.133|:443... connected.\n",
            "HTTP request sent, awaiting response... 200 OK\n",
            "Length: 10814 (11K) [text/plain]\n",
            "Saving to: ‘swl.txt.5’\n",
            "\n",
            "\rswl.txt.5             0%[                    ]       0  --.-KB/s               \rswl.txt.5           100%[===================>]  10.56K  --.-KB/s    in 0s      \n",
            "\n",
            "2021-12-19 16:56:57 (46.6 MB/s) - ‘swl.txt.5’ saved [10814/10814]\n",
            "\n",
            "\u001b[31mОбразец стоп-слов:\u001b[0m ['абы', 'авось', 'ага', 'аж', 'аз', 'ай', 'ай-ай-ай']\n",
            "\u001b[31mРазмер словаря:\u001b[0m 35345\n",
            "\u001b[31mОбразец словаря\u001b[0m\n",
            " [('<PAD>', 0), ('этом', 1), ('россии', 2), ('ранее', 3), ('заявил', 4), ('словам', 5), ('будет', 6), ('время', 7), ('коронавируса', 8), ('сообщает', 9)]\n"
          ]
        }
      ]
    },
    {
      "cell_type": "markdown",
      "metadata": {
        "id": "rY88STJAZWu3"
      },
      "source": [
        "# Биграммная модель / триграммная модель"
      ]
    },
    {
      "cell_type": "code",
      "metadata": {
        "id": "yrwK3tkBJME7",
        "scrolled": true,
        "colab": {
          "base_uri": "https://localhost:8080/"
        },
        "outputId": "a12ddeca-a76d-4a21-8398-a9d4d1e2a3de"
      },
      "source": [
        "# Используем Phrases из gensim\n",
        "# на вход модель принимает токенизированные данные\n",
        "# чем выше min_count и threshold, тем меньше би- или триграм будет устанавливать модель\n",
        "bigram = gensim.models.Phrases(train_tokenized, min_count=5, threshold=100)\n",
        "trigram = gensim.models.Phrases(bigram[train_tokenized], threshold=100)  \n",
        "\n",
        "bi_model = gensim.models.phrases.Phraser(bigram)\n",
        "tri_model = gensim.models.phrases.Phraser(trigram)\n",
        "\n",
        "print(f\"{Fore.RED}Образец работы биграммной модели{Style.RESET_ALL}\\n\", bi_model[bi_model[train_tokenized[0]]])\n",
        "print(f\"{Fore.RED}Образец работы триграммной модели{Style.RESET_ALL}\\n\", tri_model[tri_model[train_tokenized[0]]])"
      ],
      "execution_count": null,
      "outputs": [
        {
          "output_type": "stream",
          "name": "stderr",
          "text": [
            "/usr/local/lib/python3.7/dist-packages/gensim/models/phrases.py:598: UserWarning: For a faster implementation, use the gensim.models.phrases.Phraser class\n",
            "  warnings.warn(\"For a faster implementation, use the gensim.models.phrases.Phraser class\")\n"
          ]
        },
        {
          "output_type": "stream",
          "name": "stdout",
          "text": [
            "\u001b[31mОбразец работы биграммной модели\u001b[0m\n",
            " ['глава', 'крыма', 'сергеи_аксенов', 'заявил', 'что', 'декабря', 'будет', 'регионе', 'выходным_днем', 'для', 'госслужащих', 'сотрудников', 'всех', 'организации', 'учреждении', 'ранее', 'четверг', 'аналогичное', 'решение', 'было_принято', 'курскои', 'владимирскои', 'областях', 'днем', 'ранее', 'белгородскои', 'области', 'читаите', 'также', 'чиновник', 'выругался', 'матом', 'на', 'совещании', 'главои', 'крыма']\n",
            "\u001b[31mОбразец работы триграммной модели\u001b[0m\n",
            " ['глава', 'крыма_сергеи_аксенов', 'заявил', 'что', 'декабря', 'будет', 'регионе', 'выходным', 'днем', 'для', 'госслужащих', 'сотрудников', 'всех', 'организации', 'учреждении', 'ранее', 'четверг', 'аналогичное', 'решение_было_принято', 'курскои', 'владимирскои', 'областях', 'днем', 'ранее', 'белгородскои_области', 'читаите_также', 'чиновник', 'выругался', 'матом', 'на', 'совещании', 'главои', 'крыма']\n"
          ]
        }
      ]
    },
    {
      "cell_type": "markdown",
      "metadata": {
        "id": "mSKmvrrMJME7"
      },
      "source": [
        "# Преобработка"
      ]
    },
    {
      "cell_type": "code",
      "metadata": {
        "id": "pIAmYQLkJME7",
        "colab": {
          "base_uri": "https://localhost:8080/"
        },
        "outputId": "975e09b5-049c-4236-b951-607c05417c0c"
      },
      "source": [
        "def remove_stopwords(data):\n",
        "    \"\"\"\n",
        "    Удаление стоп-слов\n",
        "    :data: токенизированные тексты (list)\n",
        "    :return: токенизированные тексты, очищенные от стоп-слов (list)\n",
        "    \"\"\"\n",
        "    return [[word for word in text if word not in stop_words] for text in data]\n",
        "\n",
        "\n",
        "def bigrams(data):\n",
        "    \"\"\"\n",
        "    Построение биграмм\n",
        "    :data: токенизированные тексты (list)\n",
        "    :return: результат работы биграммной модели (list)\n",
        "    \"\"\"\n",
        "    return [bi_model[text] for text in data]\n",
        "\n",
        "def trigrams(data):\n",
        "    \"\"\"\n",
        "    Построение биграмм\n",
        "    :data: токенизированные тексты (list)\n",
        "    :return: результат работы биграммной модели (list)\n",
        "    \"\"\"\n",
        "    return [tri_model[text] for text in data]\n",
        "\n",
        "\n",
        "# Лемматизация с помощью Spacey\n",
        "# здесь мы ее пропустили из-за объема корпуса\n",
        "##def lemmatization(data):\n",
        "##    nlp = spacy.load('ru_core_news_sm')\n",
        "##    data_lemmatized = []\n",
        "##    for sent in data:\n",
        "##        text = nlp(\" \".join(sent)) \n",
        "##        data_lemmatized.append([token.lemma_ for token in text])\n",
        "##    return data_lemmatized\n",
        "\n",
        "\n",
        "data_clean = remove_stopwords(train_tokenized)\n",
        "data_bigrams = bigrams(data_clean)\n",
        "data_trigrams = trigrams(data_clean)\n",
        "##data_lemmatized = lemmatization(data_bigrams)\n",
        "\n",
        "\n",
        "print(f\"{Fore.RED}Образец очищенных от стоп-слов данных:{Style.RESET_ALL}\\n\", data_clean[0])\n",
        "print(f\"{Fore.RED}Образец обработанных данных c биграммами:{Style.RESET_ALL}\\n\", data_bigrams[0])\n",
        "print(f\"{Fore.RED}Образец обработанных данных c биграммами:{Style.RESET_ALL}\\n\", data_trigrams[0])\n",
        "##print(f\"{Fore.RED}Образец лемматизированных данных:{Style.RESET_ALL}\\n\", data_lemmatized[0])"
      ],
      "execution_count": null,
      "outputs": [
        {
          "output_type": "stream",
          "name": "stdout",
          "text": [
            "\u001b[31mОбразец очищенных от стоп-слов данных:\u001b[0m\n",
            " ['глава', 'крыма', 'сергеи', 'аксенов', 'заявил', 'декабря', 'будет', 'регионе', 'выходным', 'днем', 'госслужащих', 'сотрудников', 'всех', 'организации', 'учреждении', 'ранее', 'четверг', 'аналогичное', 'решение', 'принято', 'курскои', 'владимирскои', 'областях', 'днем', 'ранее', 'белгородскои', 'области', 'читаите', 'чиновник', 'выругался', 'матом', 'совещании', 'главои', 'крыма']\n",
            "\u001b[31mОбразец обработанных данных c биграммами:\u001b[0m\n",
            " ['глава', 'крыма', 'сергеи_аксенов', 'заявил', 'декабря', 'будет', 'регионе', 'выходным_днем', 'госслужащих', 'сотрудников', 'всех', 'организации', 'учреждении', 'ранее', 'четверг', 'аналогичное', 'решение_принято', 'курскои', 'владимирскои', 'областях', 'днем', 'ранее', 'белгородскои', 'области', 'читаите', 'чиновник', 'выругался', 'матом', 'совещании', 'главои', 'крыма']\n",
            "\u001b[31mОбразец обработанных данных c биграммами:\u001b[0m\n",
            " ['глава', 'крыма', 'сергеи_аксенов', 'заявил', 'декабря', 'будет', 'регионе', 'выходным', 'днем', 'госслужащих', 'сотрудников', 'всех', 'организации', 'учреждении', 'ранее', 'четверг', 'аналогичное', 'решение_принято', 'курскои', 'владимирскои', 'областях', 'днем', 'ранее', 'белгородскои_области', 'читаите', 'чиновник', 'выругался', 'матом', 'совещании', 'главои', 'крыма']\n"
          ]
        }
      ]
    },
    {
      "cell_type": "markdown",
      "metadata": {
        "id": "R7uMrXUpJME8"
      },
      "source": [
        "# Обучающий словарь и Term Frequency"
      ]
    },
    {
      "cell_type": "code",
      "source": [
        "# создание биграммного словаря с помощью gensim.corpora\n",
        "id2word = corpora.Dictionary(data_bigrams)\n",
        "\n",
        "# TF\n",
        "corpus = [id2word.doc2bow(text) for text in data_bigrams]\n",
        "\n",
        "print(f\"{Fore.RED}Образец элементов словаря:{Style.RESET_ALL}\\n\", id2word[0], id2word[1], id2word[2])\n",
        "print(f\"{Fore.RED}Образец обучающего корпуса:{Style.RESET_ALL}\\n\", corpus[0])\n",
        "print(f\"{Fore.RED}Term Frequency:{Style.RESET_ALL}\\n\", [[(id2word[id], freq) for id, freq in cp] for cp in corpus[:1]])"
      ],
      "metadata": {
        "colab": {
          "base_uri": "https://localhost:8080/"
        },
        "id": "Q3Iuu1HoplSa",
        "outputId": "1a3155dc-129f-44a7-83de-46acd3316552"
      },
      "execution_count": 32,
      "outputs": [
        {
          "output_type": "stream",
          "name": "stdout",
          "text": [
            "\u001b[31mОбразец элементов словаря:\u001b[0m\n",
            " борту борту_круизного вирусом\n",
            "\u001b[31mОбразец обучающего корпуса:\u001b[0m\n",
            " [(0, 2), (1, 1), (2, 1), (3, 1), (4, 1), (5, 1), (6, 1), (7, 1), (8, 1), (9, 1), (10, 1), (11, 1), (12, 1), (13, 1), (14, 1), (15, 1), (16, 1), (17, 1), (18, 1), (19, 1), (20, 1), (21, 1), (22, 1), (23, 1), (24, 1), (25, 1), (26, 1), (27, 1), (28, 1), (29, 1), (30, 1), (31, 1), (32, 2), (33, 1), (34, 1), (35, 2), (36, 1), (37, 1), (38, 1)]\n",
            "\u001b[31mTerm Frequency:\u001b[0m\n",
            " [[('борту', 2), ('борту_круизного', 1), ('вирусом', 1), ('гражданина', 1), ('заболели', 1), ('запертыи', 1), ('заражении', 1), ('зараженных_коронавирусом', 1), ('информации', 1), ('карантин', 1), ('карантинного', 1), ('количество', 1), ('коронавирусом', 1), ('лаинер', 1), ('лаинере', 1), ('находятся', 1), ('нового', 1), ('обстановку', 1), ('общеи_сложности', 1), ('описал', 1), ('пассажиров', 1), ('первоначально', 1), ('планировался', 1), ('побережья', 1), ('поступало', 1), ('продлен', 1), ('ранее_сообщалось', 1), ('россии', 1), ('россиянин', 1), ('сообщает_телеканал', 1), ('составив', 1), ('стало_известно', 1), ('судна', 2), ('увеличилось', 1), ('февраля', 1), ('человек', 2), ('читаите', 1), ('членов_экипажа', 1), ('японии', 1)]]\n"
          ]
        }
      ]
    },
    {
      "cell_type": "code",
      "source": [
        "# создание триграммного словаря с помощью gensim.corpora\n",
        "id2word = corpora.Dictionary(data_trigrams)\n",
        "\n",
        "# TF\n",
        "tri_corpus = [id2word.doc2bow(text) for text in data_trigrams]\n",
        "\n",
        "print(f\"{Fore.RED}Образец элементов словаря:{Style.RESET_ALL}\\n\", id2word[0], id2word[1], id2word[2])\n",
        "print(f\"{Fore.RED}Образец обучающего корпуса:{Style.RESET_ALL}\\n\", tri_corpus[0])\n",
        "print(f\"{Fore.RED}Term Frequency:{Style.RESET_ALL}\\n\", [[(id2word[id], freq) for id, freq in cp] for cp in tri_corpus[:1]])"
      ],
      "metadata": {
        "colab": {
          "base_uri": "https://localhost:8080/"
        },
        "id": "4QdthkRQS0mH",
        "outputId": "6831ea68-89f2-4d42-a3b4-927b2e00e955"
      },
      "execution_count": 34,
      "outputs": [
        {
          "output_type": "stream",
          "name": "stdout",
          "text": [
            "\u001b[31mОбразец элементов словаря:\u001b[0m\n",
            " борту борту_круизного вирусом\n",
            "\u001b[31mОбразец обучающего корпуса:\u001b[0m\n",
            " [(0, 2), (1, 1), (2, 1), (3, 1), (4, 1), (5, 1), (6, 1), (7, 1), (8, 1), (9, 1), (10, 1), (11, 1), (12, 1), (13, 1), (14, 1), (15, 1), (16, 1), (17, 1), (18, 1), (19, 1), (20, 1), (21, 1), (22, 1), (23, 1), (24, 1), (25, 1), (26, 1), (27, 1), (28, 1), (29, 1), (30, 1), (31, 1), (32, 2), (33, 1), (34, 1), (35, 2), (36, 1), (37, 1), (38, 1)]\n",
            "\u001b[31mTerm Frequency:\u001b[0m\n",
            " [[('борту', 2), ('борту_круизного', 1), ('вирусом', 1), ('гражданина', 1), ('заболели', 1), ('запертыи', 1), ('заражении', 1), ('зараженных_коронавирусом', 1), ('информации', 1), ('карантин', 1), ('карантинного', 1), ('количество', 1), ('коронавирусом', 1), ('лаинер', 1), ('лаинере', 1), ('находятся', 1), ('нового', 1), ('обстановку', 1), ('общеи_сложности', 1), ('описал', 1), ('пассажиров', 1), ('первоначально', 1), ('планировался', 1), ('побережья', 1), ('поступало', 1), ('продлен', 1), ('ранее_сообщалось', 1), ('россии', 1), ('россиянин', 1), ('сообщает_телеканал', 1), ('составив', 1), ('стало_известно', 1), ('судна', 2), ('увеличилось', 1), ('февраля', 1), ('человек', 2), ('читаите', 1), ('членов_экипажа', 1), ('японии', 1)]]\n"
          ]
        }
      ]
    },
    {
      "cell_type": "markdown",
      "metadata": {
        "id": "DAuJo71iJMFA"
      },
      "source": [
        "# Модель LDA"
      ]
    },
    {
      "cell_type": "code",
      "source": [
        "# обучение модели LDA с gensim, биграммы\n",
        "lda_model = gensim.models.ldamodel.LdaModel(corpus=corpus,\n",
        "                                           id2word=id2word,\n",
        "                                           num_topics=10, \n",
        "                                           random_state=100,\n",
        "                                           update_every=1,\n",
        "                                           chunksize=100,\n",
        "                                           passes=10,\n",
        "                                           alpha='auto',\n",
        "                                           per_word_topics=True)"
      ],
      "metadata": {
        "id": "hNlpgx-NqM6K"
      },
      "execution_count": null,
      "outputs": []
    },
    {
      "cell_type": "code",
      "source": [
        "# обучение модели LDA с gensim, триграммы\n",
        "tri_lda_model = gensim.models.ldamodel.LdaModel(corpus=tri_corpus,\n",
        "                                           id2word=id2word,\n",
        "                                           num_topics=10, \n",
        "                                           random_state=100,\n",
        "                                           update_every=1,\n",
        "                                           chunksize=100,\n",
        "                                           passes=10,\n",
        "                                           alpha='auto',\n",
        "                                           per_word_topics=True)"
      ],
      "metadata": {
        "id": "bhHcYUYoTbfH"
      },
      "execution_count": null,
      "outputs": []
    },
    {
      "cell_type": "code",
      "metadata": {
        "colab": {
          "base_uri": "https://localhost:8080/"
        },
        "id": "seYqlPTpvZSn",
        "outputId": "a74f1cb1-1473-43f1-86ef-ac2309da4f87"
      },
      "source": [
        "# результат, биграммы\n",
        "pprint(lda_model.print_topics())"
      ],
      "execution_count": null,
      "outputs": [
        {
          "output_type": "stream",
          "name": "stdout",
          "text": [
            "[(0,\n",
            "  '0.010*\"исключить\" + 0.007*\"вооружения\" + 0.006*\"инфицированным\" + '\n",
            "  '0.005*\"стриминговых\" + 0.005*\"обжаловании\" + 0.005*\"будет\" + '\n",
            "  '0.005*\"областях\" + 0.004*\"котором\" + 0.004*\"конфликту\" + '\n",
            "  '0.004*\"исламскои_республики\"'),\n",
            " (1,\n",
            "  '0.008*\"выкладывали\" + 0.007*\"организовали\" + 0.006*\"него\" + '\n",
            "  '0.006*\"увеличат\" + 0.006*\"им\" + 0.005*\"лет\" + 0.005*\"дал\" + 0.005*\"данным\" '\n",
            "  '+ 0.005*\"лице\" + 0.004*\"святыня\"'),\n",
            " (2,\n",
            "  '0.011*\"смотрите_видео\" + 0.007*\"продолжается\" + 0.006*\"хюэ\" + 0.005*\"проб\" '\n",
            "  '+ 0.005*\"специально\" + 0.005*\"премьер_министр\" + 0.005*\"россииских\" + '\n",
            "  '0.005*\"ступин\" + 0.004*\"навального\" + 0.004*\"вируса\"'),\n",
            " (3,\n",
            "  '0.006*\"заражения_коронавирусом\" + 0.005*\"сообщает_рен\" + '\n",
            "  '0.005*\"производство\" + 0.005*\"министр_обороны\" + 0.004*\"актеру\" + '\n",
            "  '0.004*\"указаны\" + 0.004*\"ступин\" + 0.004*\"ужасающеи\" + 0.003*\"тяжело\" + '\n",
            "  '0.003*\"человечеству\"'),\n",
            " (4,\n",
            "  '0.019*\"трампа\" + 0.015*\"заявил\" + 0.013*\"прибыл\" + 0.012*\"принять\" + '\n",
            "  '0.009*\"регионе\" + 0.009*\"транспортом\" + 0.008*\"частности\" + '\n",
            "  '0.006*\"сергеи_шоигу\" + 0.006*\"санкт_петербург\" + 0.005*\"температурои\"'),\n",
            " (5,\n",
            "  '0.021*\"хюэ\" + 0.019*\"мбх\" + 0.009*\"имен\" + 0.007*\"изменение\" + '\n",
            "  '0.007*\"сутки\" + 0.007*\"исключить\" + 0.006*\"наличие\" + 0.006*\"данным\" + '\n",
            "  '0.006*\"способное\" + 0.006*\"хватало\"'),\n",
            " (6,\n",
            "  '0.017*\"будет\" + 0.017*\"был\" + 0.013*\"санкт_петербург\" + '\n",
            "  '0.010*\"сергеи_шоигу\" + 0.010*\"лица\" + 0.010*\"взять\" + 0.010*\"ударит\" + '\n",
            "  '0.008*\"подчеркнул\" + 0.007*\"заявил\" + 0.006*\"уничтожение\"'),\n",
            " (7,\n",
            "  '0.007*\"помогать\" + 0.005*\"полуторачасовои\" + 0.005*\"мужчина\" + '\n",
            "  '0.005*\"оказался\" + 0.005*\"джонсоном\" + 0.005*\"мэр\" + 0.005*\"заключен\" + '\n",
            "  '0.004*\"исключает\" + 0.004*\"них\" + 0.004*\"людьми\"'),\n",
            " (8,\n",
            "  '0.024*\"государственным\" + 0.012*\"юге\" + 0.007*\"зеле\" + 0.006*\"возбуждения\" '\n",
            "  '+ 0.005*\"тела\" + 0.004*\"ему\" + 0.004*\"отобраны\" + 0.004*\"обувшись\" + '\n",
            "  '0.004*\"целом\" + 0.004*\"болгарии\"'),\n",
            " (9,\n",
            "  '0.011*\"сведения\" + 0.011*\"санкт_петербург\" + 0.010*\"владимир_путин\" + '\n",
            "  '0.008*\"регионе\" + 0.007*\"пострадал\" + 0.006*\"выкладывали\" + '\n",
            "  '0.004*\"прояснились\" + 0.004*\"расти\" + 0.004*\"был\" + 0.004*\"должен\"')]\n"
          ]
        }
      ]
    },
    {
      "cell_type": "code",
      "source": [
        "# результат, триграммы\n",
        "pprint(tri_lda_model.print_topics())"
      ],
      "metadata": {
        "colab": {
          "base_uri": "https://localhost:8080/"
        },
        "id": "naaj3Ko_X0kq",
        "outputId": "6e44acaa-7f11-40ee-b62b-fe34be5d8adf"
      },
      "execution_count": null,
      "outputs": [
        {
          "output_type": "stream",
          "name": "stdout",
          "text": [
            "[(0,\n",
            "  '0.006*\"александр\" + 0.005*\"считает\" + 0.005*\"есть\" + 0.005*\"партии\" + '\n",
            "  '0.004*\"нужно\" + 0.004*\"фото\" + 0.004*\"делать\" + 0.004*\"ес\" + '\n",
            "  '0.004*\"актриса\" + 0.003*\"можно\"'),\n",
            " (1,\n",
            "  '0.026*\"сша\" + 0.019*\"президент\" + 0.012*\"президента\" + 0.010*\"украины\" + '\n",
            "  '0.009*\"заявил\" + 0.006*\"владимир_путин\" + 0.005*\"россия\" + 0.004*\"стороны\" '\n",
            "  '+ 0.004*\"путин\" + 0.004*\"назвал\"'),\n",
            " (2,\n",
            "  '0.010*\"сообщили\" + 0.009*\"сообщает\" + 0.006*\"результате\" + 0.006*\"были\" + '\n",
            "  '0.005*\"мужчина\" + 0.005*\"отмечается\" + 0.004*\"города\" + 0.004*\"раионе\" + '\n",
            "  '0.004*\"полиции\" + 0.004*\"произошло\"'),\n",
            " (3,\n",
            "  '0.011*\"года\" + 0.010*\"белоруссии\" + 0.009*\"лукашенко\" + 0.008*\"стране\" + '\n",
            "  '0.005*\"мире\" + 0.005*\"долларов\" + 0.004*\"тысяч\" + 0.004*\"процентов\" + '\n",
            "  '0.004*\"данным\" + 0.004*\"заболевших\"'),\n",
            " (4,\n",
            "  '0.008*\"была\" + 0.006*\"время\" + 0.005*\"стала\" + 0.005*\"видео\" + 0.004*\"теме\" '\n",
            "  '+ 0.004*\"вместе\" + 0.004*\"которои\" + 0.004*\"пишет\" + 0.004*\"женщина\" + '\n",
            "  '0.003*\"акции\"'),\n",
            " (5,\n",
            "  '0.024*\"человек\" + 0.014*\"коронавируса\" + 0.013*\"москве\" + '\n",
            "  '0.010*\"коронавирусом\" + 0.008*\"коронавирус\" + 0.007*\"человека\" + '\n",
            "  '0.007*\"сутки\" + 0.006*\"этом\" + 0.005*\"столице\" + 0.005*\"время\"'),\n",
            " (6,\n",
            "  '0.022*\"россии\" + 0.022*\"этом\" + 0.014*\"словам\" + 0.013*\"ранее\" + '\n",
            "  '0.012*\"заявил\" + 0.010*\"отметил\" + 0.010*\"рф\" + 0.009*\"страны\" + '\n",
            "  '0.008*\"будет\" + 0.008*\"глава\"'),\n",
            " (7,\n",
            "  '0.008*\"него\" + 0.008*\"лет\" + 0.007*\"был\" + 0.007*\"ему\" + 0.006*\"детеи\" + '\n",
            "  '0.006*\"своего\" + 0.005*\"суд\" + 0.005*\"которыи\" + 0.005*\"ребенка\" + '\n",
            "  '0.004*\"экс\"'),\n",
            " (8,\n",
            "  '0.007*\"информации\" + 0.007*\"таким_образом\" + 0.005*\"решения\" + '\n",
            "  '0.005*\"рублеи\" + 0.004*\"тысяч_рублеи\" + 0.004*\"пострадавших\" + '\n",
            "  '0.004*\"губернатор\" + 0.004*\"первого\" + 0.004*\"задержали\" + 0.004*\"суда\"'),\n",
            " (9,\n",
            "  '0.015*\"будет\" + 0.014*\"будут\" + 0.006*\"могут\" + 0.005*\"апреля\" + '\n",
            "  '0.005*\"коронавируса\" + 0.005*\"которые\" + 0.004*\"работу\" + 0.004*\"власти\" + '\n",
            "  '0.004*\"россиян\" + 0.004*\"можно\"')]\n"
          ]
        }
      ]
    },
    {
      "cell_type": "code",
      "source": [
        "# U-Mass, биграммы\n",
        "coherence_model_lda = CoherenceModel(model=lda_model, corpus=corpus, coherence='u_mass')\n",
        "coherence_lda = coherence_model_lda.get_coherence()\n",
        "print('U-Mass: ', coherence_lda)"
      ],
      "metadata": {
        "colab": {
          "base_uri": "https://localhost:8080/"
        },
        "id": "ttuUP2vYZJsn",
        "outputId": "0a5d228d-82d4-4192-b53f-63a336dab290"
      },
      "execution_count": null,
      "outputs": [
        {
          "output_type": "stream",
          "name": "stdout",
          "text": [
            "U-Mass:  -4.730274166899538\n"
          ]
        }
      ]
    },
    {
      "cell_type": "code",
      "source": [
        "# U-Mass, триграммы\n",
        "tri_coherence_model_lda = CoherenceModel(model=tri_lda_model, corpus=tri_corpus, coherence='u_mass')\n",
        "tri_coherence_lda = tri_coherence_model_lda.get_coherence()\n",
        "print('U-Mass: ', tri_coherence_lda)"
      ],
      "metadata": {
        "colab": {
          "base_uri": "https://localhost:8080/"
        },
        "id": "STZ_25h5aLMW",
        "outputId": "ed5e1901-fe14-4620-887c-ddea516b0efe"
      },
      "execution_count": null,
      "outputs": [
        {
          "output_type": "stream",
          "name": "stdout",
          "text": [
            "U-Mass:  -4.191770845441544\n"
          ]
        }
      ]
    },
    {
      "cell_type": "code",
      "metadata": {
        "colab": {
          "base_uri": "https://localhost:8080/"
        },
        "id": "4rud4Wv8wgg-",
        "outputId": "0fdef7d6-20ed-4fb1-fcdb-23ac2b3afecf"
      },
      "source": [
        "# Перплексия, биграммы\n",
        "perplexity = lda_model.log_perplexity(corpus)\n",
        "print('Перплексия: ', perplexity)\n",
        "\n",
        "# Когерентность, биграммы\n",
        "coherence_model_lda = CoherenceModel(model=lda_model, texts=data_bigrams, dictionary=id2word, coherence='c_v')\n",
        "coherence_lda = coherence_model_lda.get_coherence()\n",
        "print('Когерентность: ', coherence_lda)"
      ],
      "execution_count": null,
      "outputs": [
        {
          "output_type": "stream",
          "name": "stdout",
          "text": [
            "Перплексия:  -10.842545018482339\n",
            "Когерентность:  0.3045778313558452\n"
          ]
        }
      ]
    },
    {
      "cell_type": "code",
      "source": [
        "# Перплексия, триграммы\n",
        "tri_perplexity = tri_lda_model.log_perplexity(corpus)\n",
        "print('Перплексия: ', tri_perplexity)\n",
        "\n",
        "# Когерентность, триграммы\n",
        "tri_coherence_model_lda = CoherenceModel(model=tri_lda_model, texts=data_trigrams, dictionary=id2word, coherence='c_v')\n",
        "tri_coherence_lda = tri_coherence_model_lda.get_coherence()\n",
        "print('Когерентность: ', tri_coherence_lda)"
      ],
      "metadata": {
        "colab": {
          "base_uri": "https://localhost:8080/"
        },
        "id": "rAnWc6EneOhd",
        "outputId": "156a3f90-1af6-41a0-bb46-28ee30cff3e4"
      },
      "execution_count": null,
      "outputs": [
        {
          "output_type": "stream",
          "name": "stdout",
          "text": [
            "Перплексия:  -14.366108945925761\n",
            "Когерентность:  0.3473169520826572\n"
          ]
        }
      ]
    },
    {
      "cell_type": "markdown",
      "source": [
        "# Модель LSA"
      ],
      "metadata": {
        "id": "CL9Kht_QH0bp"
      }
    },
    {
      "cell_type": "code",
      "source": [
        "# обучение модели LSA с gensim, биграммы\n",
        "lsa_model = gensim.models.lsimodel.LsiModel(corpus=corpus,\n",
        "                                           id2word=id2word,\n",
        "                                           num_topics=10,\n",
        "                                           decay=1.0,\n",
        "                                           distributed=False,\n",
        "                                           chunksize=100,\n",
        "                                           power_iters=2,\n",
        "                                           extra_samples=100)"
      ],
      "metadata": {
        "id": "hPxdjbFrH5Et"
      },
      "execution_count": null,
      "outputs": []
    },
    {
      "cell_type": "code",
      "source": [
        "# обучение модели LSA с gensim, триграммы\n",
        "tri_lsa_model = gensim.models.lsimodel.LsiModel(corpus=tri_corpus,\n",
        "                                           id2word=id2word,\n",
        "                                           num_topics=5,\n",
        "                                           decay=1.0,\n",
        "                                           distributed=False,\n",
        "                                           chunksize=100,\n",
        "                                           power_iters=2,\n",
        "                                           extra_samples=100)"
      ],
      "metadata": {
        "id": "CMD4UXtnUHOa"
      },
      "execution_count": null,
      "outputs": []
    },
    {
      "cell_type": "code",
      "source": [
        "# результат, биграммы\n",
        "pprint(lsa_model.print_topics())"
      ],
      "metadata": {
        "colab": {
          "base_uri": "https://localhost:8080/"
        },
        "id": "vgiWlZbGYid6",
        "outputId": "ed15b07c-26a0-4781-9aa2-f062a6708830"
      },
      "execution_count": null,
      "outputs": [
        {
          "output_type": "stream",
          "name": "stdout",
          "text": [
            "[(0,\n",
            "  '0.338*\"санкт_петербург\" + 0.323*\"был\" + 0.207*\"сергеи_шоигу\" + '\n",
            "  '0.202*\"будет\" + 0.194*\"заявил\" + 0.192*\"трампа\" + 0.174*\"регионе\" + '\n",
            "  '0.161*\"подчеркнул\" + 0.139*\"государственным\" + 0.138*\"ударит\"'),\n",
            " (1,\n",
            "  '-0.589*\"санкт_петербург\" + -0.301*\"трампа\" + 0.198*\"был\" + 0.170*\"хюэ\" + '\n",
            "  '0.157*\"будет\" + -0.136*\"сведения\" + -0.125*\"прибыл\" + 0.121*\"ударит\" + '\n",
            "  '-0.113*\"заявил\" + 0.109*\"данным\"'),\n",
            " (2,\n",
            "  '0.427*\"санкт_петербург\" + -0.366*\"трампа\" + 0.319*\"государственным\" + '\n",
            "  '0.291*\"юге\" + -0.217*\"заявил\" + -0.216*\"сергеи_шоигу\" + 0.159*\"сведения\" + '\n",
            "  '-0.157*\"подчеркнул\" + 0.141*\"будет\" + -0.127*\"принять\"'),\n",
            " (3,\n",
            "  '-0.579*\"будет\" + 0.319*\"юге\" + 0.300*\"государственным\" + 0.271*\"трампа\" + '\n",
            "  '-0.161*\"взять\" + 0.130*\"владимир_путин\" + 0.126*\"выкладывали\" + '\n",
            "  '-0.118*\"подчеркнул\" + -0.088*\"сергеи_шоигу\" + 0.081*\"увеличат\"'),\n",
            " (4,\n",
            "  '0.479*\"трампа\" + 0.452*\"будет\" + -0.324*\"сергеи_шоигу\" + '\n",
            "  '-0.236*\"санкт_петербург\" + 0.199*\"юге\" + 0.158*\"государственным\" + '\n",
            "  '-0.127*\"сведения\" + -0.124*\"был\" + 0.096*\"принять\" + 0.080*\"белозерцеву\"'),\n",
            " (5,\n",
            "  '0.392*\"белозерцеву\" + -0.257*\"будет\" + 0.180*\"долгах\" + 0.156*\"лица\" + '\n",
            "  '0.153*\"заказа\" + 0.150*\"неплательщиков\" + 0.150*\"эпохи\" + -0.133*\"был\" + '\n",
            "  '-0.132*\"юге\" + 0.121*\"культурные\"'),\n",
            " (6,\n",
            "  '-0.391*\"сергеи_шоигу\" + -0.303*\"юге\" + 0.150*\"взять\" + -0.144*\"ударит\" + '\n",
            "  '0.135*\"хюэ\" + 0.134*\"лица\" + 0.125*\"регионе\" + 0.120*\"владимир_путин\" + '\n",
            "  '-0.111*\"стратегически\" + -0.106*\"белозерцеву\"'),\n",
            " (7,\n",
            "  '0.322*\"был\" + -0.248*\"подтвердить\" + -0.177*\"требования\" + -0.174*\"ударит\" '\n",
            "  '+ -0.154*\"подчеркнул\" + 0.122*\"белозерцеву\" + -0.120*\"лица\" + '\n",
            "  '-0.119*\"нынешнее\" + 0.117*\"санкт_петербург\" + -0.116*\"воткнула\"'),\n",
            " (8,\n",
            "  '0.450*\"стратегически\" + 0.250*\"вдобавок\" + -0.236*\"государственным\" + '\n",
            "  '0.208*\"курьерскую\" + 0.140*\"дире\" + 0.139*\"готовы\" + 0.125*\"владимир_путин\" '\n",
            "  '+ -0.115*\"сергеи_шоигу\" + 0.108*\"заявил\" + 0.107*\"мире\"'),\n",
            " (9,\n",
            "  '-0.264*\"был\" + 0.253*\"сведения\" + 0.235*\"ударит\" + -0.194*\"подтвердить\" + '\n",
            "  '-0.132*\"воткнула\" + -0.132*\"падения\" + -0.130*\"нынешнее\" + '\n",
            "  '-0.127*\"сергеи_шоигу\" + -0.114*\"требования\" + 0.109*\"запуску\"')]\n"
          ]
        }
      ]
    },
    {
      "cell_type": "code",
      "source": [
        "# результат, триграммы\n",
        "pprint(tri_lsa_model.print_topics())"
      ],
      "metadata": {
        "colab": {
          "base_uri": "https://localhost:8080/"
        },
        "id": "ONghdFxjYk41",
        "outputId": "1b43fdbc-939e-42db-9e76-04d96b73370b"
      },
      "execution_count": null,
      "outputs": [
        {
          "output_type": "stream",
          "name": "stdout",
          "text": [
            "[(0,\n",
            "  '0.334*\"россии\" + 0.322*\"этом\" + 0.209*\"словам\" + 0.205*\"будет\" + '\n",
            "  '0.189*\"сша\" + 0.189*\"заявил\" + 0.170*\"ранее\" + 0.163*\"отметил\" + '\n",
            "  '0.144*\"года\" + 0.142*\"уже\"'),\n",
            " (1,\n",
            "  '0.521*\"россии\" + -0.288*\"будет\" + 0.227*\"сша\" + 0.187*\"рф\" + '\n",
            "  '-0.142*\"кислорода\" + -0.119*\"уже\" + -0.117*\"этом\" + -0.109*\"можно\" + '\n",
            "  '-0.098*\"словам\" + -0.097*\"время\"'),\n",
            " (2,\n",
            "  '0.323*\"году\" + -0.272*\"словам\" + 0.260*\"россии\" + 0.222*\"года\" + '\n",
            "  '0.180*\"кислорода\" + -0.149*\"сша\" + 0.141*\"ани\" + -0.137*\"этом\" + '\n",
            "  '0.136*\"будет\" + 0.129*\"развития\"'),\n",
            " (3,\n",
            "  '0.365*\"кислорода\" + -0.223*\"году\" + -0.196*\"ани\" + 0.168*\"кислород\" + '\n",
            "  '0.141*\"технологии\" + 0.140*\"марсе\" + 0.139*\"дыхания\" + 0.131*\"сша\" + '\n",
            "  '0.112*\"марса\" + 0.112*\"астронавтов\"'),\n",
            " (4,\n",
            "  '-0.272*\"развития\" + 0.264*\"ани\" + 0.258*\"году\" + -0.179*\"территории\" + '\n",
            "  '-0.147*\"парк\" + -0.145*\"парка\" + -0.144*\"конкурса\" + 0.139*\"город\" + '\n",
            "  '-0.127*\"города\" + 0.122*\"нашеи_эры\"')]\n"
          ]
        }
      ]
    },
    {
      "cell_type": "code",
      "source": [
        "# U-Mass, биграммы\n",
        "coherence_model_lsa = CoherenceModel(model=lsa_model, corpus=corpus, coherence='u_mass')\n",
        "coherence_lsa = coherence_model_lsa.get_coherence()\n",
        "print('U-Mass: ', coherence_lsa)"
      ],
      "metadata": {
        "colab": {
          "base_uri": "https://localhost:8080/"
        },
        "id": "4AlHLpJVZFuB",
        "outputId": "0e6be264-0e27-4068-f43d-7e6e38df5068"
      },
      "execution_count": null,
      "outputs": [
        {
          "output_type": "stream",
          "name": "stdout",
          "text": [
            "U-Mass:  -4.530492492598545\n"
          ]
        }
      ]
    },
    {
      "cell_type": "code",
      "source": [
        "# U-Mass, триграммы\n",
        "tri_coherence_model_lsa = CoherenceModel(model=tri_lsa_model, corpus=tri_corpus, coherence='u_mass')\n",
        "tri_coherence_lsa = tri_coherence_model_lsa.get_coherence()\n",
        "print('U-Mass: ', tri_coherence_lsa)"
      ],
      "metadata": {
        "colab": {
          "base_uri": "https://localhost:8080/"
        },
        "id": "x6d6V30dfGhM",
        "outputId": "45c36463-e369-4687-a3d0-6e9203982ae3"
      },
      "execution_count": null,
      "outputs": [
        {
          "output_type": "stream",
          "name": "stdout",
          "text": [
            "U-Mass:  -4.910205035773785\n"
          ]
        }
      ]
    },
    {
      "cell_type": "code",
      "source": [
        "# Когерентность, биграммы\n",
        "coherence_model_lda = CoherenceModel(model=lsa_model, texts=data_bigrams, dictionary=id2word, coherence='c_v')\n",
        "coherence_lda = coherence_model_lda.get_coherence()\n",
        "print('Когерентность: ', coherence_lsa)"
      ],
      "metadata": {
        "colab": {
          "base_uri": "https://localhost:8080/"
        },
        "id": "1r-SeqYRf2OY",
        "outputId": "eab7bb6b-2216-49a5-ec56-4372cf08158d"
      },
      "execution_count": null,
      "outputs": [
        {
          "output_type": "stream",
          "name": "stdout",
          "text": [
            "Когерентность:  -4.530492492598545\n"
          ]
        }
      ]
    },
    {
      "cell_type": "code",
      "source": [
        "# Когерентность, триграммы\n",
        "tri_coherence_model_lsa = CoherenceModel(model=tri_lsa_model, texts=data_trigrams, dictionary=id2word, coherence='c_v')\n",
        "tri_coherence_lsa = tri_coherence_model_lda.get_coherence()\n",
        "print('Когерентность: ', tri_coherence_lsa)"
      ],
      "metadata": {
        "colab": {
          "base_uri": "https://localhost:8080/"
        },
        "id": "rGiTXa_NhRtO",
        "outputId": "e3a2416e-c161-4f21-9108-7e7e0bc002a5"
      },
      "execution_count": null,
      "outputs": [
        {
          "output_type": "stream",
          "name": "stdout",
          "text": [
            "Когерентность:  0.3473169520826572\n"
          ]
        }
      ]
    },
    {
      "cell_type": "markdown",
      "source": [
        "# Модель NMF"
      ],
      "metadata": {
        "id": "WwJiUfwgKDDN"
      }
    },
    {
      "cell_type": "code",
      "source": [
        "# обучение модели NMF с sklearn, биграммы\n",
        "vect = TfidfVectorizer(min_df=1, stop_words=None)\n",
        "X = vect.fit_transform([str(data_bigrams)])\n",
        "\n",
        "nmf_model = NMF(n_components=10, random_state=5)\n",
        "nmf_model.fit(X)\n",
        "nmf_features = nmf_model.transform(X)\n",
        "\n",
        "components_df = pd.DataFrame(nmf_model.components_, columns=vect.get_feature_names())"
      ],
      "metadata": {
        "id": "WHB1XR-eH8RP"
      },
      "execution_count": null,
      "outputs": []
    },
    {
      "cell_type": "code",
      "source": [
        "# обучение модели NMF с sklearn, биграммы\n",
        "tri_vect = TfidfVectorizer(min_df=1, stop_words=None)\n",
        "tri_X = tri_vect.fit_transform([str(data_trigrams)])\n",
        "\n",
        "tri_nmf_model = NMF(n_components=10, random_state=5)\n",
        "tri_nmf_model.fit(tri_X)\n",
        "tri_nmf_features = tri_nmf_model.transform(tri_X)\n",
        "\n",
        "tri_components_df = pd.DataFrame(tri_nmf_model.components_, columns=tri_vect.get_feature_names())"
      ],
      "metadata": {
        "id": "ttjXygAnRZjC"
      },
      "execution_count": null,
      "outputs": []
    },
    {
      "cell_type": "code",
      "source": [
        "# результаты, биграммы\n",
        "for topic in range(components_df.shape[0]):\n",
        "    tmp = components_df.iloc[topic]\n",
        "    print(f'For topic {topic+1} the words with the highest value are:')\n",
        "    print(tmp.nlargest(10))\n",
        "    print('\\n')"
      ],
      "metadata": {
        "colab": {
          "base_uri": "https://localhost:8080/"
        },
        "id": "8sliwZBaRQD6",
        "outputId": "c5c926a4-3cf5-4dbe-c625-c92de2c0350a"
      },
      "execution_count": null,
      "outputs": [
        {
          "output_type": "stream",
          "name": "stdout",
          "text": [
            "For topic 1 the words with the highest value are:\n",
            "этом       9.840106\n",
            "россии     9.195706\n",
            "заявил     6.167439\n",
            "ранее      5.993992\n",
            "будет      5.866784\n",
            "словам     5.718336\n",
            "сша        5.435128\n",
            "человек    5.247714\n",
            "года       4.604223\n",
            "уже        4.409506\n",
            "Name: 0, dtype: float64\n",
            "\n",
            "\n",
            "For topic 2 the words with the highest value are:\n",
            "последствия              0.036013\n",
            "объемы                   0.035271\n",
            "безопасность             0.034147\n",
            "градусов_тепла           0.033273\n",
            "исхода                   0.031907\n",
            "король                   0.030472\n",
            "министерство_финансов    0.030022\n",
            "борьбу                   0.029782\n",
            "нагрузки                 0.029703\n",
            "источников               0.029055\n",
            "Name: 1, dtype: float64\n",
            "\n",
            "\n",
            "For topic 3 the words with the highest value are:\n",
            "харьковскои         0.033070\n",
            "политическое        0.033038\n",
            "предлагает          0.032228\n",
            "владимиру_путину    0.032181\n",
            "прежнии             0.032115\n",
            "аякс                0.031519\n",
            "биатлониста         0.030777\n",
            "авиация             0.030744\n",
            "торговые            0.030531\n",
            "подобным            0.029315\n",
            "Name: 2, dtype: float64\n",
            "\n",
            "\n",
            "For topic 4 the words with the highest value are:\n",
            "борту_судна          0.033495\n",
            "организации          0.031589\n",
            "коалиция             0.031503\n",
            "обвиняемои           0.031004\n",
            "масок_перчаток       0.029786\n",
            "обострять            0.029379\n",
            "светланои            0.029244\n",
            "продюсер             0.028721\n",
            "украинские_власти    0.028538\n",
            "принималось          0.028502\n",
            "Name: 3, dtype: float64\n",
            "\n",
            "\n",
            "For topic 5 the words with the highest value are:\n",
            "двумя_странами         0.033843\n",
            "сообщают_очевидцы      0.032818\n",
            "встретятся             0.032021\n",
            "помогли                0.031147\n",
            "алеппо                 0.030962\n",
            "середины               0.030530\n",
            "петра                  0.029956\n",
            "членом                 0.029916\n",
            "невскои_мануфактуры    0.029700\n",
            "сомневается            0.029458\n",
            "Name: 4, dtype: float64\n",
            "\n",
            "\n",
            "For topic 6 the words with the highest value are:\n",
            "начальных                 0.032783\n",
            "рабочая                   0.032503\n",
            "вооруженного_конфликта    0.031716\n",
            "голдман                   0.031436\n",
            "состоять                  0.031159\n",
            "парламентские             0.030471\n",
            "трагедия                  0.030065\n",
            "объявленного              0.029737\n",
            "патрушев                  0.029089\n",
            "ватутин                   0.028999\n",
            "Name: 5, dtype: float64\n",
            "\n",
            "\n",
            "For topic 7 the words with the highest value are:\n",
            "доз_вакцины          0.032471\n",
            "тюрем                0.032470\n",
            "нарушении_прав       0.030504\n",
            "интенсивно           0.030487\n",
            "характера            0.030420\n",
            "слушания             0.030334\n",
            "условного            0.029637\n",
            "медицинских_масок    0.029444\n",
            "тяжелее              0.029090\n",
            "соответствующим      0.029047\n",
            "Name: 6, dtype: float64\n",
            "\n",
            "\n",
            "For topic 8 the words with the highest value are:\n",
            "канале               0.033560\n",
            "поисковои            0.032953\n",
            "премьер_лиги         0.029764\n",
            "угрозы               0.029753\n",
            "страница             0.029378\n",
            "новости              0.028731\n",
            "таким                0.028674\n",
            "объявлять            0.028449\n",
            "спектр               0.028202\n",
            "онлаин_трансляцию    0.028051\n",
            "Name: 7, dtype: float64\n",
            "\n",
            "\n",
            "For topic 9 the words with the highest value are:\n",
            "чемпионата         0.032700\n",
            "дохода             0.032538\n",
            "слухам             0.032367\n",
            "блогер             0.031959\n",
            "колорадо           0.031726\n",
            "замуж              0.030988\n",
            "градусов_мороза    0.030700\n",
            "будь               0.030688\n",
            "заити              0.030608\n",
            "проявление         0.030432\n",
            "Name: 8, dtype: float64\n",
            "\n",
            "\n",
            "For topic 10 the words with the highest value are:\n",
            "завершении         0.041652\n",
            "проезжую_часть     0.034694\n",
            "открыто            0.034277\n",
            "тпк                0.031929\n",
            "угрожать           0.031797\n",
            "прислали           0.031710\n",
            "достоянием         0.030847\n",
            "опасения           0.030766\n",
            "импичменту         0.030765\n",
            "миллиона_рублеи    0.030694\n",
            "Name: 9, dtype: float64\n",
            "\n",
            "\n"
          ]
        }
      ]
    },
    {
      "cell_type": "code",
      "source": [
        "# результаты, триграммы\n",
        "for topic in range(tri_components_df.shape[0]):\n",
        "    tmp = tri_components_df.iloc[topic]\n",
        "    print(f'For topic {topic+1} the words with the highest value are:')\n",
        "    print(tmp.nlargest(10))\n",
        "    print('\\n')"
      ],
      "metadata": {
        "colab": {
          "base_uri": "https://localhost:8080/"
        },
        "id": "FetvQqY3RdBE",
        "outputId": "4b4a43bf-b6c0-4d71-c905-f3808ab63b80"
      },
      "execution_count": null,
      "outputs": [
        {
          "output_type": "stream",
          "name": "stdout",
          "text": [
            "For topic 1 the words with the highest value are:\n",
            "этом       11.496643\n",
            "россии     11.278685\n",
            "заявил      7.566694\n",
            "ранее       7.355240\n",
            "будет       7.157317\n",
            "словам      7.013747\n",
            "сша         6.693593\n",
            "человек     6.263553\n",
            "года        5.563700\n",
            "уже         5.417258\n",
            "Name: 0, dtype: float64\n",
            "\n",
            "\n",
            "For topic 2 the words with the highest value are:\n",
            "ставропольского_края    0.036838\n",
            "объявили                0.035579\n",
            "главному                0.033970\n",
            "градоначальник          0.033564\n",
            "министр_обороны         0.030284\n",
            "спортивные              0.030145\n",
            "предметов               0.029719\n",
            "морозова                0.029569\n",
            "поддержка               0.029396\n",
            "источник_экстренных     0.029309\n",
            "Name: 1, dtype: float64\n",
            "\n",
            "\n",
            "For topic 3 the words with the highest value are:\n",
            "таком_случае       0.034678\n",
            "анализа            0.033336\n",
            "политолог          0.033327\n",
            "торговом           0.030798\n",
            "ходу               0.030372\n",
            "подобных           0.029571\n",
            "расставания        0.028957\n",
            "утечка             0.028873\n",
            "распространение    0.028525\n",
            "имел               0.028482\n",
            "Name: 2, dtype: float64\n",
            "\n",
            "\n",
            "For topic 4 the words with the highest value are:\n",
            "талант              0.034235\n",
            "борту_находились    0.033787\n",
            "князь               0.032207\n",
            "проживающих         0.031099\n",
            "миссию              0.030855\n",
            "корзины_доллара     0.030573\n",
            "семеиного           0.029409\n",
            "нужд                0.029212\n",
            "декабре             0.029013\n",
            "украинец            0.028788\n",
            "Name: 3, dtype: float64\n",
            "\n",
            "\n",
            "For topic 5 the words with the highest value are:\n",
            "дворе            0.034139\n",
            "компаниями       0.032517\n",
            "помогли          0.031420\n",
            "ранены           0.031195\n",
            "израильскои      0.030748\n",
            "вступили         0.030025\n",
            "недавно          0.029581\n",
            "многодетным      0.029440\n",
            "предусмотрено    0.029256\n",
            "тесном           0.029122\n",
            "Name: 4, dtype: float64\n",
            "\n",
            "\n",
            "For topic 6 the words with the highest value are:\n",
            "редкостью                 0.035052\n",
            "обязанностями             0.033318\n",
            "начальнои                 0.033070\n",
            "алтая                     0.032893\n",
            "сент                      0.032759\n",
            "каспииске                 0.032559\n",
            "непонятные                0.032453\n",
            "годовом                   0.031711\n",
            "состоянии_алкогольного    0.031432\n",
            "метеостанции              0.031316\n",
            "Name: 5, dtype: float64\n",
            "\n",
            "\n",
            "For topic 7 the words with the highest value are:\n",
            "боширова           0.033397\n",
            "гонконга           0.032773\n",
            "включения          0.031090\n",
            "нарушение          0.030771\n",
            "доставка           0.030476\n",
            "медицинская        0.029702\n",
            "поколении          0.029623\n",
            "соответствующая    0.029300\n",
            "абсолютныи         0.028965\n",
            "собрании           0.028861\n",
            "Name: 6, dtype: float64\n",
            "\n",
            "\n",
            "For topic 8 the words with the highest value are:\n",
            "уменьшение        0.035249\n",
            "регулярное        0.034967\n",
            "канадои           0.033854\n",
            "подписал_закон    0.033687\n",
            "поисках           0.033241\n",
            "актов             0.032267\n",
            "лечиться          0.031732\n",
            "самыи_высокии     0.031652\n",
            "критикои          0.030980\n",
            "объявляет         0.030655\n",
            "Name: 7, dtype: float64\n",
            "\n",
            "\n",
            "For topic 9 the words with the highest value are:\n",
            "вирусу             0.033438\n",
            "служебном          0.032650\n",
            "телегина           0.031955\n",
            "замораживание      0.031259\n",
            "представляющие     0.031207\n",
            "неблагоприятных    0.031017\n",
            "комплекса          0.031015\n",
            "моего              0.030538\n",
            "вылететь           0.030468\n",
            "ценообразования    0.030311\n",
            "Name: 8, dtype: float64\n",
            "\n",
            "\n",
            "For topic 10 the words with the highest value are:\n",
            "завезти           0.038176\n",
            "чаи               0.037691\n",
            "радиационныи      0.035490\n",
            "проезда           0.034997\n",
            "открылось         0.034577\n",
            "главную           0.033263\n",
            "полярная          0.033205\n",
            "нины              0.032442\n",
            "точках            0.032208\n",
            "уголовные_дела    0.032075\n",
            "Name: 9, dtype: float64\n",
            "\n",
            "\n"
          ]
        }
      ]
    },
    {
      "cell_type": "markdown",
      "source": [
        "# Вектора темообразующих слов"
      ],
      "metadata": {
        "id": "KUEYtiibrhhb"
      }
    },
    {
      "cell_type": "code",
      "metadata": {
        "id": "QWAZA4qSJhF3",
        "colab": {
          "base_uri": "https://localhost:8080/"
        },
        "outputId": "6a789a4e-1ff6-4ed5-f15d-b8c8195b1f26"
      },
      "source": [
        "word2vec.wv.most_similar('астронавты')"
      ],
      "execution_count": null,
      "outputs": [
        {
          "output_type": "execute_result",
          "data": {
            "text/plain": [
              "[('бенкен', 0.8296997547149658),\n",
              " ('херли', 0.8059341907501221),\n",
              " ('космонавты', 0.7791233658790588),\n",
              " ('рубинс', 0.7277292013168335),\n",
              " ('астронавт', 0.7082988023757935),\n",
              " ('кэссиди', 0.702535092830658),\n",
              " ('crew', 0.6957943439483643),\n",
              " ('астронавтами', 0.6944085359573364),\n",
              " ('скрипочка', 0.6858607530593872),\n",
              " ('dragon', 0.6788076162338257)]"
            ]
          },
          "metadata": {},
          "execution_count": 9
        }
      ]
    },
    {
      "cell_type": "code",
      "metadata": {
        "colab": {
          "base_uri": "https://localhost:8080/"
        },
        "id": "KX6FxDNg3FQ2",
        "outputId": "667ed64a-09a1-485b-9455-6dce0d4794fa"
      },
      "source": [
        "word2vec.wv.most_similar('белоруссия')"
      ],
      "execution_count": null,
      "outputs": [
        {
          "output_type": "execute_result",
          "data": {
            "text/plain": [
              "[('турция', 0.7059727907180786),\n",
              " ('молдавия', 0.705755352973938),\n",
              " ('польша', 0.7039617300033569),\n",
              " ('киргизия', 0.6994829773902893),\n",
              " ('румыния', 0.6741063594818115),\n",
              " ('россия', 0.6676888465881348),\n",
              " ('сирия', 0.6670364141464233),\n",
              " ('венгрия', 0.6631976366043091),\n",
              " ('куба', 0.661466121673584),\n",
              " ('литва', 0.6543489694595337)]"
            ]
          },
          "metadata": {},
          "execution_count": 10
        }
      ]
    },
    {
      "cell_type": "code",
      "metadata": {
        "colab": {
          "base_uri": "https://localhost:8080/"
        },
        "id": "i7VnhdXy3IP8",
        "outputId": "910836ac-f6a9-4d69-c26c-3fb9409768bd"
      },
      "source": [
        "word2vec.wv.most_similar('вирус')"
      ],
      "execution_count": null,
      "outputs": [
        {
          "output_type": "execute_result",
          "data": {
            "text/plain": [
              "[('грипп', 0.7529324293136597),\n",
              " ('мутировать', 0.7492635250091553),\n",
              " ('мутирует', 0.7478526830673218),\n",
              " ('мутировавший', 0.7448064088821411),\n",
              " ('штамм', 0.7445308566093445),\n",
              " ('циркулировать', 0.7365777492523193),\n",
              " ('возбудитель', 0.7199515104293823),\n",
              " ('инфекция', 0.7106943130493164),\n",
              " ('вируса', 0.7069671750068665),\n",
              " ('передался', 0.7054847478866577)]"
            ]
          },
          "metadata": {},
          "execution_count": 8
        }
      ]
    }
  ]
}